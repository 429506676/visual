{
 "cells": [
  {
   "cell_type": "code",
   "execution_count": 5,
   "id": "3912dbe0",
   "metadata": {},
   "outputs": [],
   "source": [
    "import numpy as np\n",
    "import math"
   ]
  },
  {
   "cell_type": "code",
   "execution_count": 6,
   "id": "30a234d1",
   "metadata": {},
   "outputs": [
    {
     "data": {
      "text/plain": [
       "array([[1.],\n",
       "       [1.],\n",
       "       [1.]])"
      ]
     },
     "execution_count": 6,
     "metadata": {},
     "output_type": "execute_result"
    }
   ],
   "source": [
    "np.asarray([1.0,1.0,1.0]).reshape(3,1)"
   ]
  },
  {
   "cell_type": "code",
   "execution_count": 7,
   "id": "25b84512",
   "metadata": {},
   "outputs": [
    {
     "data": {
      "text/plain": [
       "array([[1., 0., 0.],\n",
       "       [0., 1., 0.],\n",
       "       [0., 0., 1.]])"
      ]
     },
     "execution_count": 7,
     "metadata": {},
     "output_type": "execute_result"
    }
   ],
   "source": [
    "np.identity(3)"
   ]
  },
  {
   "cell_type": "markdown",
   "id": "70f689ab",
   "metadata": {},
   "source": [
    "### **绕Z旋转**"
   ]
  },
  {
   "cell_type": "code",
   "execution_count": 8,
   "id": "bdf8c54a",
   "metadata": {},
   "outputs": [],
   "source": [
    "def rz(theta):\n",
    "    return np.asarray([math.cos(theta),-math.sin(theta),0,math.sin(theta),math.cos(theta),0,0,0,1]).reshape(3,3)"
   ]
  },
  {
   "cell_type": "code",
   "execution_count": 9,
   "id": "57f4b302",
   "metadata": {},
   "outputs": [
    {
     "data": {
      "text/plain": [
       "array([[ 0.70710678, -0.70710678,  0.        ],\n",
       "       [ 0.70710678,  0.70710678,  0.        ],\n",
       "       [ 0.        ,  0.        ,  1.        ]])"
      ]
     },
     "execution_count": 9,
     "metadata": {},
     "output_type": "execute_result"
    }
   ],
   "source": [
    "rz(math.pi/4)"
   ]
  },
  {
   "cell_type": "markdown",
   "id": "5ef24d5d",
   "metadata": {},
   "source": [
    "### **绕X旋转**"
   ]
  },
  {
   "cell_type": "code",
   "execution_count": 10,
   "id": "8c42baa2",
   "metadata": {},
   "outputs": [],
   "source": [
    "def rx(theta):\n",
    "    return np.asarray([1,0,0,0,math.cos(theta),-math.sin(theta),0,math.sin(theta),math.cos(theta)]).reshape(3,3)"
   ]
  },
  {
   "cell_type": "code",
   "execution_count": 13,
   "id": "33b115cc",
   "metadata": {
    "scrolled": true
   },
   "outputs": [],
   "source": [
    "R_BC = rx(math.pi)"
   ]
  },
  {
   "cell_type": "code",
   "execution_count": 15,
   "id": "697ec787",
   "metadata": {},
   "outputs": [],
   "source": [
    "P_CP = np.asarray([2,1,2])\n",
    "P_BC = np.asarray([0,0,3])\n",
    "P_BP = np.add(np.dot(R_BC,P_CP),P_BC)"
   ]
  },
  {
   "cell_type": "code",
   "execution_count": 16,
   "id": "3788cf6e",
   "metadata": {},
   "outputs": [
    {
     "data": {
      "text/plain": [
       "array([ 2., -1.,  1.])"
      ]
     },
     "execution_count": 16,
     "metadata": {},
     "output_type": "execute_result"
    }
   ],
   "source": [
    "P_BP"
   ]
  },
  {
   "cell_type": "code",
   "execution_count": null,
   "id": "3436aabd",
   "metadata": {},
   "outputs": [],
   "source": []
  }
 ],
 "metadata": {
  "kernelspec": {
   "display_name": "Python 3 (ipykernel)",
   "language": "python",
   "name": "python3"
  },
  "language_info": {
   "codemirror_mode": {
    "name": "ipython",
    "version": 3
   },
   "file_extension": ".py",
   "mimetype": "text/x-python",
   "name": "python",
   "nbconvert_exporter": "python",
   "pygments_lexer": "ipython3",
   "version": "3.10.6"
  }
 },
 "nbformat": 4,
 "nbformat_minor": 5
}
